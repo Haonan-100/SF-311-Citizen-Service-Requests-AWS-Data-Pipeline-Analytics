{
 "cells": [
  {
   "metadata": {},
   "cell_type": "markdown",
   "source": "# SF 311 — Data Download & Quick EDA\n",
   "id": "7b8f948f74b68e80"
  },
  {
   "metadata": {
    "ExecuteTime": {
     "end_time": "2025-04-24T00:19:23.092431Z",
     "start_time": "2025-04-24T00:19:23.089895Z"
    }
   },
   "cell_type": "code",
   "source": [
    "import os, math, urllib.request, zipfile, json\n",
    "from pathlib import Path\n",
    "import pandas as pd\n",
    "import matplotlib.pyplot as plt\n",
    "import seaborn as sns\n",
    "sns.set(style=\"whitegrid\")"
   ],
   "id": "7d8f8a6c48776ad4",
   "outputs": [],
   "execution_count": 1
  },
  {
   "metadata": {
    "ExecuteTime": {
     "end_time": "2025-04-24T00:19:25.438428Z",
     "start_time": "2025-04-24T00:19:25.435380Z"
    }
   },
   "cell_type": "code",
   "source": [
    "# CONFIG\n",
    "DATASET_ID = \"vw6y-z8j6\"\n",
    "LOCAL_DIR  = Path(r\"/Github/SF311/data\")\n",
    "PARQUET    = LOCAL_DIR / \"sf311_snapshot.parquet\"\n",
    "CSV_FILE   = LOCAL_DIR / \"sf311_snapshot.csv\"\n",
    "\n",
    "LOCAL_DIR.mkdir(exist_ok=True, parents=True)"
   ],
   "id": "5f5c651a2c3e014d",
   "outputs": [],
   "execution_count": 2
  },
  {
   "metadata": {
    "ExecuteTime": {
     "end_time": "2025-04-24T00:15:44.572718Z",
     "start_time": "2025-04-23T23:57:40.769962Z"
    }
   },
   "cell_type": "code",
   "source": [
    "def download_snapshot():\n",
    "    if CSV_FILE.exists():\n",
    "        print(\"✔ CSV Exist Skip Download \")\n",
    "        return\n",
    "    CSV_URL = f\"https://data.sfgov.org/api/views/{DATASET_ID}/rows.csv?accessType=DOWNLOAD\"\n",
    "    print(f\"⬇ Downloading {CSV_URL.split('/')[-1]} → {CSV_FILE}\")\n",
    "    def progress(block_num, block_size, total_size):\n",
    "        downloaded = block_num * block_size\n",
    "        percent = math.floor(downloaded * 100 / total_size)\n",
    "        print(f\"\\r{percent:3d}% \", end=\"\")\n",
    "    urllib.request.urlretrieve(CSV_URL, CSV_FILE, reporthook=progress)\n",
    "    print(\"\\n✅ Download complete\")\n",
    "\n",
    "download_snapshot()"
   ],
   "id": "55076eaf12bbd04e",
   "outputs": [
    {
     "name": "stdout",
     "output_type": "stream",
     "text": [
      "⬇ Downloading rows.csv?accessType=DOWNLOAD → D:\\py\\Github\\SF311\\data\\sf311_snapshot.csv\n",
      "-412168192000% \n",
      "✅ Download complete\n"
     ]
    }
   ],
   "execution_count": 6
  },
  {
   "metadata": {
    "ExecuteTime": {
     "end_time": "2025-04-24T00:20:34.548339Z",
     "start_time": "2025-04-24T00:19:37.107544Z"
    }
   },
   "cell_type": "code",
   "source": [
    "# Read CSV（1-2 min）\n",
    "df = pd.read_csv(CSV_FILE, low_memory=False)\n",
    "print(f\"Rows: {len(df):,} · Cols: {df.shape[1]}\")"
   ],
   "id": "b881c87133dcc16d",
   "outputs": [
    {
     "name": "stdout",
     "output_type": "stream",
     "text": [
      "Rows: 7,678,447 · Cols: 52\n"
     ]
    }
   ],
   "execution_count": 3
  },
  {
   "metadata": {
    "ExecuteTime": {
     "end_time": "2025-04-24T00:17:36.696509Z",
     "start_time": "2025-04-24T00:17:36.679705Z"
    }
   },
   "cell_type": "code",
   "source": "df.head()",
   "id": "391c21be38918835",
   "outputs": [
    {
     "data": {
      "text/plain": [
       "     CaseID                  Opened                  Closed  \\\n",
       "0  11376400  09/06/2019 07:40:00 AM  09/09/2019 02:43:09 PM   \n",
       "1  11380888  09/07/2019 01:32:00 AM  09/07/2019 08:22:45 AM   \n",
       "2    789051  12/14/2010 08:07:35 PM  12/16/2010 09:09:29 AM   \n",
       "3  11354620  09/01/2019 03:13:17 PM  09/01/2019 04:47:02 PM   \n",
       "4    793136  12/22/2010 08:57:19 AM  03/02/2011 09:06:02 AM   \n",
       "\n",
       "                  Updated  Status  \\\n",
       "0  09/09/2019 02:43:09 PM  Closed   \n",
       "1  09/07/2019 08:22:45 AM  Closed   \n",
       "2  12/16/2010 09:09:29 AM  Closed   \n",
       "3  09/01/2019 04:47:02 PM  Closed   \n",
       "4  03/02/2011 09:06:02 AM  Closed   \n",
       "\n",
       "                                        Status Notes  \\\n",
       "0  Case Transferred - Customer may follow up with...   \n",
       "1  Case Resolved - Officer responded to request u...   \n",
       "2                     See Notes tab for more details   \n",
       "3                    Case Resolved - WASTE NOT FOUND   \n",
       "4                     See Notes tab for more details   \n",
       "\n",
       "                   Responsible Agency                      Category  \\\n",
       "0                     MUNI Work Queue                 MUNI Feedback   \n",
       "1  Parking Enforcement Dispatch Queue           Parking Enforcement   \n",
       "2                       DPW Ops Queue  Street and Sidewalk Cleaning   \n",
       "3                  Recology_Abandoned  Street and Sidewalk Cleaning   \n",
       "4                       DPW Ops Queue                      Graffiti   \n",
       "\n",
       "                                  Request Type  \\\n",
       "0  MUNI - Services_Service_Delivery_Facilities   \n",
       "1                        Other_Illegal_Parking   \n",
       "2                             General Cleaning   \n",
       "3                                  Bulky Items   \n",
       "4             Graffiti on Building_residential   \n",
       "\n",
       "                        Request Details  ... Fix It Zones as of 2018-02-07  \\\n",
       "0                     601_Delay_No_Show  ...                           NaN   \n",
       "1       Silver - Toyota Camry - 7TCM255  ...                           NaN   \n",
       "2                   Other Loose Garbage  ...                           NaN   \n",
       "3                              Mattress  ...                           NaN   \n",
       "4  Building_residential - Not_Offensive  ...                           NaN   \n",
       "\n",
       "  CBD, BID and GBD Boundaries as of 2017  Central Market/Tenderloin Boundary  \\\n",
       "0                                   10.0                                 NaN   \n",
       "1                                    NaN                                 NaN   \n",
       "2                                    NaN                                 NaN   \n",
       "3                                    NaN                                 NaN   \n",
       "4                                    NaN                                 NaN   \n",
       "\n",
       "  Areas of Vulnerability, 2016  \\\n",
       "0                          1.0   \n",
       "1                          2.0   \n",
       "2                          2.0   \n",
       "3                          1.0   \n",
       "4                          1.0   \n",
       "\n",
       "  Central Market/Tenderloin Boundary Polygon - Updated  \\\n",
       "0                                                NaN     \n",
       "1                                                NaN     \n",
       "2                                                NaN     \n",
       "3                                                NaN     \n",
       "4                                                NaN     \n",
       "\n",
       "  HSOC Zones as of 2018-06-05  OWED Public Spaces  \\\n",
       "0                         NaN                 NaN   \n",
       "1                         NaN                 NaN   \n",
       "2                         NaN                 NaN   \n",
       "3                         NaN                 NaN   \n",
       "4                         NaN                 NaN   \n",
       "\n",
       "   Parks Alliance CPSI (27+TL sites) Neighborhoods SF Find Neighborhoods  \n",
       "0                                NaN          50.0                  50.0  \n",
       "1                                NaN          66.0                  66.0  \n",
       "2                                NaN          91.0                  91.0  \n",
       "3                                NaN          28.0                  28.0  \n",
       "4                                NaN          39.0                  39.0  \n",
       "\n",
       "[5 rows x 52 columns]"
      ],
      "text/html": [
       "<div>\n",
       "<style scoped>\n",
       "    .dataframe tbody tr th:only-of-type {\n",
       "        vertical-align: middle;\n",
       "    }\n",
       "\n",
       "    .dataframe tbody tr th {\n",
       "        vertical-align: top;\n",
       "    }\n",
       "\n",
       "    .dataframe thead th {\n",
       "        text-align: right;\n",
       "    }\n",
       "</style>\n",
       "<table border=\"1\" class=\"dataframe\">\n",
       "  <thead>\n",
       "    <tr style=\"text-align: right;\">\n",
       "      <th></th>\n",
       "      <th>CaseID</th>\n",
       "      <th>Opened</th>\n",
       "      <th>Closed</th>\n",
       "      <th>Updated</th>\n",
       "      <th>Status</th>\n",
       "      <th>Status Notes</th>\n",
       "      <th>Responsible Agency</th>\n",
       "      <th>Category</th>\n",
       "      <th>Request Type</th>\n",
       "      <th>Request Details</th>\n",
       "      <th>...</th>\n",
       "      <th>Fix It Zones as of 2018-02-07</th>\n",
       "      <th>CBD, BID and GBD Boundaries as of 2017</th>\n",
       "      <th>Central Market/Tenderloin Boundary</th>\n",
       "      <th>Areas of Vulnerability, 2016</th>\n",
       "      <th>Central Market/Tenderloin Boundary Polygon - Updated</th>\n",
       "      <th>HSOC Zones as of 2018-06-05</th>\n",
       "      <th>OWED Public Spaces</th>\n",
       "      <th>Parks Alliance CPSI (27+TL sites)</th>\n",
       "      <th>Neighborhoods</th>\n",
       "      <th>SF Find Neighborhoods</th>\n",
       "    </tr>\n",
       "  </thead>\n",
       "  <tbody>\n",
       "    <tr>\n",
       "      <th>0</th>\n",
       "      <td>11376400</td>\n",
       "      <td>09/06/2019 07:40:00 AM</td>\n",
       "      <td>09/09/2019 02:43:09 PM</td>\n",
       "      <td>09/09/2019 02:43:09 PM</td>\n",
       "      <td>Closed</td>\n",
       "      <td>Case Transferred - Customer may follow up with...</td>\n",
       "      <td>MUNI Work Queue</td>\n",
       "      <td>MUNI Feedback</td>\n",
       "      <td>MUNI - Services_Service_Delivery_Facilities</td>\n",
       "      <td>601_Delay_No_Show</td>\n",
       "      <td>...</td>\n",
       "      <td>NaN</td>\n",
       "      <td>10.0</td>\n",
       "      <td>NaN</td>\n",
       "      <td>1.0</td>\n",
       "      <td>NaN</td>\n",
       "      <td>NaN</td>\n",
       "      <td>NaN</td>\n",
       "      <td>NaN</td>\n",
       "      <td>50.0</td>\n",
       "      <td>50.0</td>\n",
       "    </tr>\n",
       "    <tr>\n",
       "      <th>1</th>\n",
       "      <td>11380888</td>\n",
       "      <td>09/07/2019 01:32:00 AM</td>\n",
       "      <td>09/07/2019 08:22:45 AM</td>\n",
       "      <td>09/07/2019 08:22:45 AM</td>\n",
       "      <td>Closed</td>\n",
       "      <td>Case Resolved - Officer responded to request u...</td>\n",
       "      <td>Parking Enforcement Dispatch Queue</td>\n",
       "      <td>Parking Enforcement</td>\n",
       "      <td>Other_Illegal_Parking</td>\n",
       "      <td>Silver - Toyota Camry - 7TCM255</td>\n",
       "      <td>...</td>\n",
       "      <td>NaN</td>\n",
       "      <td>NaN</td>\n",
       "      <td>NaN</td>\n",
       "      <td>2.0</td>\n",
       "      <td>NaN</td>\n",
       "      <td>NaN</td>\n",
       "      <td>NaN</td>\n",
       "      <td>NaN</td>\n",
       "      <td>66.0</td>\n",
       "      <td>66.0</td>\n",
       "    </tr>\n",
       "    <tr>\n",
       "      <th>2</th>\n",
       "      <td>789051</td>\n",
       "      <td>12/14/2010 08:07:35 PM</td>\n",
       "      <td>12/16/2010 09:09:29 AM</td>\n",
       "      <td>12/16/2010 09:09:29 AM</td>\n",
       "      <td>Closed</td>\n",
       "      <td>See Notes tab for more details</td>\n",
       "      <td>DPW Ops Queue</td>\n",
       "      <td>Street and Sidewalk Cleaning</td>\n",
       "      <td>General Cleaning</td>\n",
       "      <td>Other Loose Garbage</td>\n",
       "      <td>...</td>\n",
       "      <td>NaN</td>\n",
       "      <td>NaN</td>\n",
       "      <td>NaN</td>\n",
       "      <td>2.0</td>\n",
       "      <td>NaN</td>\n",
       "      <td>NaN</td>\n",
       "      <td>NaN</td>\n",
       "      <td>NaN</td>\n",
       "      <td>91.0</td>\n",
       "      <td>91.0</td>\n",
       "    </tr>\n",
       "    <tr>\n",
       "      <th>3</th>\n",
       "      <td>11354620</td>\n",
       "      <td>09/01/2019 03:13:17 PM</td>\n",
       "      <td>09/01/2019 04:47:02 PM</td>\n",
       "      <td>09/01/2019 04:47:02 PM</td>\n",
       "      <td>Closed</td>\n",
       "      <td>Case Resolved - WASTE NOT FOUND</td>\n",
       "      <td>Recology_Abandoned</td>\n",
       "      <td>Street and Sidewalk Cleaning</td>\n",
       "      <td>Bulky Items</td>\n",
       "      <td>Mattress</td>\n",
       "      <td>...</td>\n",
       "      <td>NaN</td>\n",
       "      <td>NaN</td>\n",
       "      <td>NaN</td>\n",
       "      <td>1.0</td>\n",
       "      <td>NaN</td>\n",
       "      <td>NaN</td>\n",
       "      <td>NaN</td>\n",
       "      <td>NaN</td>\n",
       "      <td>28.0</td>\n",
       "      <td>28.0</td>\n",
       "    </tr>\n",
       "    <tr>\n",
       "      <th>4</th>\n",
       "      <td>793136</td>\n",
       "      <td>12/22/2010 08:57:19 AM</td>\n",
       "      <td>03/02/2011 09:06:02 AM</td>\n",
       "      <td>03/02/2011 09:06:02 AM</td>\n",
       "      <td>Closed</td>\n",
       "      <td>See Notes tab for more details</td>\n",
       "      <td>DPW Ops Queue</td>\n",
       "      <td>Graffiti</td>\n",
       "      <td>Graffiti on Building_residential</td>\n",
       "      <td>Building_residential - Not_Offensive</td>\n",
       "      <td>...</td>\n",
       "      <td>NaN</td>\n",
       "      <td>NaN</td>\n",
       "      <td>NaN</td>\n",
       "      <td>1.0</td>\n",
       "      <td>NaN</td>\n",
       "      <td>NaN</td>\n",
       "      <td>NaN</td>\n",
       "      <td>NaN</td>\n",
       "      <td>39.0</td>\n",
       "      <td>39.0</td>\n",
       "    </tr>\n",
       "  </tbody>\n",
       "</table>\n",
       "<p>5 rows × 52 columns</p>\n",
       "</div>"
      ]
     },
     "execution_count": 9,
     "metadata": {},
     "output_type": "execute_result"
    }
   ],
   "execution_count": 9
  },
  {
   "metadata": {},
   "cell_type": "markdown",
   "source": [
    "### 1. Field Renaming & Type Preprocessing\n",
    "Keep only commonly used columns and standardize naming for easier downstream use in dbt / SQL.\n"
   ],
   "id": "8eaf300a34ebd1a0"
  },
  {
   "metadata": {
    "ExecuteTime": {
     "end_time": "2025-04-24T00:20:49.409523Z",
     "start_time": "2025-04-24T00:20:49.403885Z"
    }
   },
   "cell_type": "code",
   "source": [
    "RENAME_MAP = {\n",
    "    \"CaseID\"      : \"service_request_id\",\n",
    "    \"Opened\"      : \"opened_date\",\n",
    "    \"Request Type\": \"service_subtype\",\n",
    "    \"Status\"      : \"status\",\n",
    "    \"Category\"    : \"service_name\",\n",
    "    \"Latitude\"    : \"lat\",\n",
    "    \"Longitude\"   : \"lon\",\n",
    "}\n",
    "df.rename(columns=RENAME_MAP, inplace=True)"
   ],
   "id": "ef4520eaa905a6c5",
   "outputs": [],
   "execution_count": 4
  },
  {
   "metadata": {
    "ExecuteTime": {
     "end_time": "2025-04-24T00:20:51.852773Z",
     "start_time": "2025-04-24T00:20:50.764746Z"
    }
   },
   "cell_type": "code",
   "source": [
    "KEEP = list(RENAME_MAP.values()) + [\n",
    "    \"Closed\", \"Neighborhood\", \"Police District\",\n",
    "    \"Source\", \"Media URL\"\n",
    "]\n",
    "df = df[[c for c in KEEP if c in df.columns]]"
   ],
   "id": "1942c8ace3480c74",
   "outputs": [],
   "execution_count": 5
  },
  {
   "metadata": {
    "ExecuteTime": {
     "end_time": "2025-04-24T00:22:47.621456Z",
     "start_time": "2025-04-24T00:22:36.349714Z"
    }
   },
   "cell_type": "code",
   "source": [
    "#  datetime\n",
    "df[\"Closed\"] = pd.to_datetime(df[\"Closed\"], format=\"%m/%d/%Y %I:%M:%S %p\", errors=\"coerce\")\n",
    "df[\"opened_date\"] = pd.to_datetime(df[\"opened_date\"], format=\"%m/%d/%Y %I:%M:%S %p\", errors=\"coerce\")"
   ],
   "id": "78bdd2753b83630b",
   "outputs": [],
   "execution_count": 7
  },
  {
   "metadata": {
    "ExecuteTime": {
     "end_time": "2025-04-24T00:23:09.146228Z",
     "start_time": "2025-04-24T00:23:09.143106Z"
    }
   },
   "cell_type": "code",
   "source": [
    "# get  Parquet\n",
    "if not PARQUET.exists():\n",
    "    df.to_parquet(PARQUET, index=False)\n",
    "    print(\"Parquet saved →\", PARQUET)\n",
    "else:\n",
    "    print(\"✔ Parquet already present\")"
   ],
   "id": "ca58656d41467a20",
   "outputs": [
    {
     "name": "stdout",
     "output_type": "stream",
     "text": [
      "✔ Parquet already present\n"
     ]
    }
   ],
   "execution_count": 9
  },
  {
   "metadata": {},
   "cell_type": "markdown",
   "source": "### 2. EDA",
   "id": "602f0b23f40c7fd4"
  },
  {
   "metadata": {
    "ExecuteTime": {
     "end_time": "2025-04-24T00:23:12.196077Z",
     "start_time": "2025-04-24T00:23:11.118208Z"
    }
   },
   "cell_type": "code",
   "source": [
    "# 2-1 Missing Rate\n",
    "na_pct = df.isna().mean().sort_values(ascending=False) * 100\n",
    "na_pct.head(10)"
   ],
   "id": "c5b5c1dd515e9eac",
   "outputs": [
    {
     "data": {
      "text/plain": [
       "Media URL          63.345596\n",
       "Police District     4.886014\n",
       "Neighborhood        4.847699\n",
       "Closed              1.656754\n",
       "lat                 0.180779\n",
       "lon                 0.180779\n",
       "service_subtype     0.150890\n",
       "Source              0.000026\n",
       "status              0.000000\n",
       "opened_date         0.000000\n",
       "dtype: float64"
      ]
     },
     "execution_count": 10,
     "metadata": {},
     "output_type": "execute_result"
    }
   ],
   "execution_count": 10
  },
  {
   "metadata": {
    "ExecuteTime": {
     "end_time": "2025-04-24T00:23:18.315843Z",
     "start_time": "2025-04-24T00:23:16.839673Z"
    }
   },
   "cell_type": "code",
   "source": [
    "# 2-2 Annual Request Volume\n",
    "yearly = (\n",
    "    df.dropna(subset=[\"opened_date\"])\n",
    "      .assign(year=lambda d: d[\"opened_date\"].dt.year)\n",
    "      .groupby(\"year\")[\"service_request_id\"]\n",
    "      .count()\n",
    ")\n",
    "\n",
    "yearly.plot(title=\"SF311 Requests per Year\", figsize=(8,4))\n",
    "plt.tight_layout()"
   ],
   "id": "f2cffd61f3d598ca",
   "outputs": [
    {
     "data": {
      "text/plain": [
       "<Figure size 800x400 with 1 Axes>"
      ],
      "image/png": "[encoded data removed]"
     },
     "metadata": {},
     "output_type": "display_data"
    }
   ],
   "execution_count": 11
  },
  {
   "metadata": {
    "ExecuteTime": {
     "end_time": "2025-04-24T00:23:21.070287Z",
     "start_time": "2025-04-24T00:23:20.893813Z"
    }
   },
   "cell_type": "code",
   "source": [
    "# 2-3 Top 10 Service Subtypes\n",
    "top_types = (\n",
    "    df[\"service_subtype\"]\n",
    "      .value_counts()\n",
    "      .head(10)\n",
    "      .rename_axis(\"service_subtype\")\n",
    "      .reset_index(name=\"count\")\n",
    ")\n",
    "top_types"
   ],
   "id": "c3d42606a1f5ed63",
   "outputs": [
    {
     "data": {
      "text/plain": [
       "                                    service_subtype    count\n",
       "0                                       Bulky Items  1004147\n",
       "1                                  General Cleaning   929020\n",
       "2                                Encampment Reports   350620\n",
       "3                                garbage_and_debris   304561\n",
       "4                             Human or Animal Waste   301299\n",
       "5                               request_for_service   299550\n",
       "6                      City_garbage_can_overflowing   278119\n",
       "7                             Other_Illegal_Parking   145021\n",
       "8  Graffiti on Other_enter_additional_details_below   140677\n",
       "9                   Graffiti on Building_commercial   126104"
      ],
      "text/html": [
       "<div>\n",
       "<style scoped>\n",
       "    .dataframe tbody tr th:only-of-type {\n",
       "        vertical-align: middle;\n",
       "    }\n",
       "\n",
       "    .dataframe tbody tr th {\n",
       "        vertical-align: top;\n",
       "    }\n",
       "\n",
       "    .dataframe thead th {\n",
       "        text-align: right;\n",
       "    }\n",
       "</style>\n",
       "<table border=\"1\" class=\"dataframe\">\n",
       "  <thead>\n",
       "    <tr style=\"text-align: right;\">\n",
       "      <th></th>\n",
       "      <th>service_subtype</th>\n",
       "      <th>count</th>\n",
       "    </tr>\n",
       "  </thead>\n",
       "  <tbody>\n",
       "    <tr>\n",
       "      <th>0</th>\n",
       "      <td>Bulky Items</td>\n",
       "      <td>1004147</td>\n",
       "    </tr>\n",
       "    <tr>\n",
       "      <th>1</th>\n",
       "      <td>General Cleaning</td>\n",
       "      <td>929020</td>\n",
       "    </tr>\n",
       "    <tr>\n",
       "      <th>2</th>\n",
       "      <td>Encampment Reports</td>\n",
       "      <td>350620</td>\n",
       "    </tr>\n",
       "    <tr>\n",
       "      <th>3</th>\n",
       "      <td>garbage_and_debris</td>\n",
       "      <td>304561</td>\n",
       "    </tr>\n",
       "    <tr>\n",
       "      <th>4</th>\n",
       "      <td>Human or Animal Waste</td>\n",
       "      <td>301299</td>\n",
       "    </tr>\n",
       "    <tr>\n",
       "      <th>5</th>\n",
       "      <td>request_for_service</td>\n",
       "      <td>299550</td>\n",
       "    </tr>\n",
       "    <tr>\n",
       "      <th>6</th>\n",
       "      <td>City_garbage_can_overflowing</td>\n",
       "      <td>278119</td>\n",
       "    </tr>\n",
       "    <tr>\n",
       "      <th>7</th>\n",
       "      <td>Other_Illegal_Parking</td>\n",
       "      <td>145021</td>\n",
       "    </tr>\n",
       "    <tr>\n",
       "      <th>8</th>\n",
       "      <td>Graffiti on Other_enter_additional_details_below</td>\n",
       "      <td>140677</td>\n",
       "    </tr>\n",
       "    <tr>\n",
       "      <th>9</th>\n",
       "      <td>Graffiti on Building_commercial</td>\n",
       "      <td>126104</td>\n",
       "    </tr>\n",
       "  </tbody>\n",
       "</table>\n",
       "</div>"
      ]
     },
     "execution_count": 12,
     "metadata": {},
     "output_type": "execute_result"
    }
   ],
   "execution_count": 12
  },
  {
   "metadata": {
    "ExecuteTime": {
     "end_time": "2025-04-24T00:23:23.414062Z",
     "start_time": "2025-04-24T00:23:23.317691Z"
    }
   },
   "cell_type": "code",
   "source": [
    "# 2-4 Bar Chart\n",
    "top_types.set_index(\"service_subtype\")[\"count\"].plot.barh(figsize=(6,4), title=\"Top 10 Request Types\")"
   ],
   "id": "749b6109f7643bec",
   "outputs": [
    {
     "data": {
      "text/plain": [
       "<Axes: title={'center': 'Top 10 Request Types'}, ylabel='service_subtype'>"
      ]
     },
     "execution_count": 13,
     "metadata": {},
     "output_type": "execute_result"
    },
    {
     "data": {
      "text/plain": [
       "<Figure size 600x400 with 1 Axes>"
      ],
      "image/png": "[encoded data removed]"
     },
     "metadata": {},
     "output_type": "display_data"
    }
   ],
   "execution_count": 13
  },
  {
   "metadata": {},
   "cell_type": "code",
   "outputs": [],
   "execution_count": null,
   "source": "",
   "id": "7017de56e63f0592"
  },
  {
   "metadata": {},
   "cell_type": "code",
   "outputs": [],
   "execution_count": null,
   "source": "",
   "id": "c72ce0c4f96c62cf"
  },
  {
   "metadata": {},
   "cell_type": "code",
   "outputs": [],
   "execution_count": null,
   "source": "",
   "id": "2df49bc8a9cac978"
  },
  {
   "metadata": {},
   "cell_type": "code",
   "outputs": [],
   "execution_count": null,
   "source": "",
   "id": "47ae0e0f6ce7c8db"
  }
 ],
 "metadata": {
  "kernelspec": {
   "display_name": "Python 3",
   "language": "python",
   "name": "python3"
  },
  "language_info": {
   "codemirror_mode": {
    "name": "ipython",
    "version": 2
   },
   "file_extension": ".py",
   "mimetype": "text/x-python",
   "name": "python",
   "nbconvert_exporter": "python",
   "pygments_lexer": "ipython2",
   "version": "2.7.6"
  }
 },
 "nbformat": 4,
 "nbformat_minor": 5
}
